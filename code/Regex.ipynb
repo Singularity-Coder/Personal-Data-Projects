{
 "cells": [
  {
   "cell_type": "markdown",
   "id": "c79cbb60-60ab-4088-9ebb-6393f603db62",
   "metadata": {},
   "source": [
    "# Regex"
   ]
  },
  {
   "cell_type": "markdown",
   "id": "b3b0df6e-e381-4c73-bbca-349bbefabb91",
   "metadata": {},
   "source": [
    "* Regex - check if patern exists in the string\n",
    "* https://regex101.com/ - Check Quick Reference section here to learn abt symbols\n",
    "* https://regexr.com/\n",
    "* https://stackoverflow.com/questions/2973436/regex-lookahead-lookbehind-and-atomic-groups\n",
    "* https://docs.python.org/3/howto/regex.html"
   ]
  },
  {
   "cell_type": "markdown",
   "id": "8384038b-6d99-450f-80fa-cf1bd95c8263",
   "metadata": {},
   "source": [
    "### Text for testing regex"
   ]
  },
  {
   "cell_type": "raw",
   "id": "a4307ea4-9c7b-42a2-a8d4-5177898eb4c1",
   "metadata": {},
   "source": [
    "abcdefghijklmnopqurtuvwxyz\n",
    "ABCDEFGHIJKLMNOPQRSTUVWXYZ\n",
    "1234567890\n",
    "\n",
    "abcdef\n",
    "\n",
    ".[{()\\^$|?*+\n",
    "\n",
    "site.com\n",
    "\n",
    "321-555-4321\n",
    "123.555.1234\n",
    "123*555*1234\n",
    "\n",
    "Mr. Varma\n",
    "Mr Anant  \n",
    "Ms Nandini\n",
    "Mrs. Singh\n",
    "Mr. T\n"
   ]
  },
  {
   "cell_type": "code",
   "execution_count": 65,
   "id": "cc65a924-9b84-4672-a7ce-4d019ab1828e",
   "metadata": {},
   "outputs": [],
   "source": [
    "import re"
   ]
  },
  {
   "cell_type": "code",
   "execution_count": 7,
   "id": "bdcb96a2-75af-4929-bda3-f414a87b97c4",
   "metadata": {},
   "outputs": [],
   "source": [
    "# Both are same\n",
    "pattern = \"[abcdef]\" \n",
    "pattern = \"[a-f]\""
   ]
  },
  {
   "cell_type": "code",
   "execution_count": 4,
   "id": "5749b7f2-a3f3-4c48-a365-eade2acb590d",
   "metadata": {},
   "outputs": [],
   "source": [
    "text = \"a b c\"\n",
    "pattern = \"[abc]\" # match either a or b or c"
   ]
  },
  {
   "cell_type": "code",
   "execution_count": 5,
   "id": "2ede67df-6c6a-4215-acdb-4af7bd4bb5a2",
   "metadata": {},
   "outputs": [],
   "source": [
    "text = \"a a a\""
   ]
  },
  {
   "cell_type": "code",
   "execution_count": 6,
   "id": "a8ad7b86-bce4-4807-8a3b-1f69969396f6",
   "metadata": {},
   "outputs": [],
   "source": [
    "text = \"abc abc abc\"\n",
    "pattern1 = r\"abc abc abc\"\n",
    "pattern1 = r\"abc {3}\""
   ]
  },
  {
   "cell_type": "code",
   "execution_count": null,
   "id": "2b3ba676-2f08-4a6b-84f1-7d2fdf62672c",
   "metadata": {},
   "outputs": [],
   "source": [
    "text = \"abc     abc abc\"\n",
    "pattern1 = \"(abc)\\s*\"\n",
    "pattern2 = \"^(abc\\s*)*$\""
   ]
  },
  {
   "cell_type": "code",
   "execution_count": 17,
   "id": "8f2b9e5f-9a1f-4eeb-91e9-42ab197700a7",
   "metadata": {},
   "outputs": [
    {
     "name": "stdout",
     "output_type": "stream",
     "text": [
      "True\n"
     ]
    }
   ],
   "source": [
    "text = \"codeht.ihesh.is.at@gmail.com\"\n",
    "pattern = \"^\\w+([\\.-]?\\w+)*\""
   ]
  },
  {
   "cell_type": "code",
   "execution_count": null,
   "id": "1e0e7167-82fa-45ad-a012-864daad8905b",
   "metadata": {},
   "outputs": [],
   "source": [
    "l = ['brian-23@mela.com', 'brute_54@mela.com', 'sara@mela.co.in']\n",
    "pattern = \"^[\\w\\-\\_\\.]{1,20}@\\w+(\\.\\w+)+$\"\n",
    "\"\"\"\n",
    "It is of the form user@domain.com, user or domain can't be empty\n",
    "It must have a single @ in the address.\n",
    "The maximum length of the name before @ should be 20.\n",
    "\"\"\""
   ]
  },
  {
   "cell_type": "code",
   "execution_count": null,
   "id": "480ba436-e9e0-481d-8825-82bbf1b40d65",
   "metadata": {},
   "outputs": [],
   "source": [
    "^(a{3}+ )+\n",
    "aaa aaa aaa "
   ]
  },
  {
   "cell_type": "code",
   "execution_count": 3,
   "id": "f7d2efb2-6724-4b2b-bce5-6d8e95361229",
   "metadata": {},
   "outputs": [
    {
     "data": {
      "text/plain": [
       "True"
      ]
     },
     "execution_count": 3,
     "metadata": {},
     "output_type": "execute_result"
    }
   ],
   "source": [
    "import re\n",
    "\n",
    "# either use r\"\" raw str or escape the backslash \\\\w\n",
    "# https://stackoverflow.com/questions/50504500/deprecationwarning-invalid-escape-sequence-what-to-use-instead-of-d\n",
    "def isValidEmail(s):\n",
    "    email_pattern = r\"^\\w+([\\.-]?\\w+)*@\\w+([|.-]?\\w+)*(\\.\\w{2,3})+$\"\n",
    "    res = re.search(email_pattern, s)\n",
    "    return res != None\n",
    "\n",
    "isValidEmail(\"a@abcsca.com\")"
   ]
  },
  {
   "cell_type": "raw",
   "id": "f54f2d1b-e001-476d-9b99-ecb4a3f3eb9a",
   "metadata": {},
   "source": [
    "Rules\n",
    "* find pattern btw a string dont use ^ or $\n",
    "* find pattern at start of string use ^\n",
    "* find pattern at end of string use $\n",
    "* Check if string is of exact pattern use ^ and $ like email or phone. Exactly 10 digits, should have @ and .com, etc"
   ]
  },
  {
   "cell_type": "code",
   "execution_count": 62,
   "id": "034aa8d4-ede8-4370-9e22-e5ec162bf288",
   "metadata": {},
   "outputs": [],
   "source": [
    "pattern = r\"(abc\\s*)*\" # in btw str\n",
    "pattern = r\"^(abc\\s*)*\" # starts with\n",
    "pattern = r\"(abc\\s*)*$\" # ends with\n",
    "pattern = r\"^(abc\\s*)*$\" # whole str is of exact pattern\n",
    "text = \"abc     abc abc  abc abcabc sc abc aaba abc\""
   ]
  },
  {
   "cell_type": "raw",
   "id": "99fae67d-00d0-48ae-ae47-675aed0e7caa",
   "metadata": {},
   "source": [
    "\\b assert position at a word boundary.\n",
    "Three different positions qualify for word boundaries :\n",
    "► Before the first character in the string, if the first character is a word character.\n",
    "► Between two characters in the string, where one is a word character and the other is not a word character.\n",
    "► After the last character in the string, if the last character is a word character."
   ]
  },
  {
   "cell_type": "raw",
   "id": "71e2615a-a186-49ee-99f5-8df6503f9757",
   "metadata": {},
   "source": [
    "BACK REFERENCE\n",
    "\\group_number\n",
    "This tool (\\1 references the first capturing group) matches the same text as previously matched by the capturing group.\n",
    "(\\d)\\1: It can match 00, 11, 22, 33"
   ]
  },
  {
   "cell_type": "raw",
   "id": "4e7ccf06-6bf5-4777-9ea0-99e12020dbb8",
   "metadata": {},
   "source": [
    "\\group_number\n",
    "() capturing group\n",
    "(x?) is not same as (x)?\n",
    "(x?) here x is optional\n",
    "(x)? here group itself is optional"
   ]
  },
  {
   "cell_type": "raw",
   "id": "fc6dd4a7-4c5b-4ea2-90e4-afed793d9aba",
   "metadata": {},
   "source": [
    "\\group_number is used to match same character. Ex: (da)\\1 = dada\n",
    "Not clear - https://www.hackerrank.com/challenges/negative-lookahead/problem?isFullScreen=true"
   ]
  },
  {
   "cell_type": "code",
   "execution_count": 34,
   "id": "5e257f1e-ba4b-468a-aded-3322296e3d47",
   "metadata": {},
   "outputs": [
    {
     "data": {
      "text/plain": [
       "('23', '4242', '424242')"
      ]
     },
     "execution_count": 34,
     "metadata": {},
     "output_type": "execute_result"
    }
   ],
   "source": [
    "# To find individual matches of a pattern use groups - ()\n",
    "# If we want to have 23, 4242 and 424242 as separate matches - (\\d+)-(\\d+)-(\\d+)\n",
    "string = \"23-4242-424242\"\n",
    "pattern = r\"(\\d+)-(\\d+)-(\\d+)\"\n",
    "l = re.findall(pattern, string)\n",
    "l[0]"
   ]
  },
  {
   "cell_type": "raw",
   "id": "4916dfde-d240-4689-af57-63f72db4d8da",
   "metadata": {},
   "source": [
    "# https://github.com/wkentaro/gdown#installation\n",
    "# Do this in mac terminal and reload Jupyter Notebook\n",
    "pip install gdown"
   ]
  },
  {
   "cell_type": "markdown",
   "id": "b03ad2d6-f307-4bf4-bb66-71f4316d09cb",
   "metadata": {},
   "source": [
    "### Positive Lookbehind"
   ]
  },
  {
   "cell_type": "code",
   "execution_count": 71,
   "id": "1cbdbc43-feb5-4b0f-855e-bb141939b759",
   "metadata": {},
   "outputs": [
    {
     "data": {
      "text/plain": [
       "'bar'"
      ]
     },
     "execution_count": 71,
     "metadata": {},
     "output_type": "execute_result"
    }
   ],
   "source": [
    "# Common use case would be to get tags behind <. Ex: <a href=\"\"\n",
    "pattern = r\"(?<=foo)bar\"\n",
    "text = \"foobar fuubar\" # gets \"bar\" behind \"foo\" in \"foobar\"\n",
    "match = re.search(pattern, text)\n",
    "match.group(0)"
   ]
  },
  {
   "cell_type": "code",
   "execution_count": null,
   "id": "b393b62b-058b-4d5c-b7a3-d286e2e8eb1e",
   "metadata": {},
   "outputs": [],
   "source": [
    "pattern = r'(?<=<div class=\"excerpt\">)\\s*\\w*</div>'\n",
    "text = '''\n",
    "    <div class=\"excerpt\"> I am constructing an operational amplifier as shown in the following figure. I use a batter as supplier for the OP Amp and set it up as a non-inverting amp circuit. I saw that the output was clipped ... </div>\n",
    "'''\n",
    "match = re.findall(pattern, text.strip(\"\\n\"))\n",
    "match"
   ]
  },
  {
   "cell_type": "markdown",
   "id": "cb8d4e25-af7f-4813-9e3f-4ae926cf9126",
   "metadata": {},
   "source": [
    "### Negative Lookbehind"
   ]
  },
  {
   "cell_type": "code",
   "execution_count": 74,
   "id": "a9883380-c3a7-46a0-bd5c-7a4bf820985f",
   "metadata": {},
   "outputs": [
    {
     "data": {
      "text/plain": [
       "'foo'"
      ]
     },
     "execution_count": 74,
     "metadata": {},
     "output_type": "execute_result"
    }
   ],
   "source": [
    "pattern = r\"(?<!not )foo\"\n",
    "text = \"not foo but foo\" # get \"foo\" if starts with \"not \"\n",
    "match = re.search(pattern, text)\n",
    "match.group(0)"
   ]
  },
  {
   "cell_type": "code",
   "execution_count": 80,
   "id": "0bea9f57-4033-4e57-967d-b22697f47682",
   "metadata": {},
   "outputs": [
    {
     "data": {
      "text/plain": [
       "'80407'"
      ]
     },
     "execution_count": 80,
     "metadata": {},
     "output_type": "execute_result"
    }
   ],
   "source": [
    "pattern = r\"(?<!question-summary- )\\d+\"\n",
    "text = '<div class=\"question-summary\" id=\"question-summary-80407\">'\n",
    "match = re.search(pattern, text)\n",
    "match.group(0)"
   ]
  },
  {
   "cell_type": "markdown",
   "id": "12556fa9-3f7a-4674-923f-04a0e19feabf",
   "metadata": {},
   "source": [
    "### Match word exactly"
   ]
  },
  {
   "cell_type": "code",
   "execution_count": 12,
   "id": "47d131ab-9ea1-45a6-b951-b4c7ccf6b87e",
   "metadata": {},
   "outputs": [
    {
     "data": {
      "text/plain": [
       "['world']"
      ]
     },
     "execution_count": 12,
     "metadata": {},
     "output_type": "execute_result"
    }
   ],
   "source": [
    "word = \"world\"\n",
    "pattern = r'\\b' + word + r'\\b'\n",
    "text = \"Hello world. My name is Abuba. I live in a cave.\"\n",
    "match = re.findall(pattern, text)\n",
    "match"
   ]
  },
  {
   "cell_type": "code",
   "execution_count": 9,
   "id": "6b6057d1-1f57-4999-a069-ae3814f42349",
   "metadata": {},
   "outputs": [
    {
     "name": "stdin",
     "output_type": "stream",
     "text": [
      " 1\n"
     ]
    },
    {
     "name": "stdout",
     "output_type": "stream",
     "text": [
      "2\n"
     ]
    }
   ],
   "source": [
    "sentences = [\n",
    "    \"splendour wealth piece recognition savoury endeavour oil cannot reality fish\",\n",
    "    \"sincere savor argument vigour chain awake cap surprising savoury jump\",\n",
    "    \"natural study process immoral flag vigour habit assist candy pet\",\n",
    "    \"shoulder aside slightly onto crash later disagreement savour rumour entrance\",\n",
    "    \"splendour petrol unable inevitably crowd growth fasten leading responsibility artificially\",\n",
    "    \"equally alarmed also knowledge ok splendor armory pick sale be\",\n",
    "    \"activity rumour ending alcoholic savory curve splendour honestly enjoyable rumour\",\n",
    "    \"determined used rumor union affair odor granddaughter elect endeavor alter\",\n",
    "    \"savor hour enjoyable waiter divorce at mental prepared folding primary\",\n",
    "    \"cheaply vegetable upon splendor disease savor it cast hear cardboard\"\n",
    "]\n",
    "words = [\n",
    "    \"endeavour\",\n",
    "    \"savoury\",\n",
    "    \"savour\",\n",
    "    \"vigour\",\n",
    "    \"valour\",\n",
    "    \"splendour\",\n",
    "    \"rumour\",\n",
    "    \"odour\",\n",
    "    \"armoury\"\n",
    "]\n",
    "T = int(input())\n",
    "for C in words:\n",
    "    C2 = C.replace(\"our\", \"or\")\n",
    "    pattern = r\"\\b\" + C + r'\\b|\\b' + C2 + r\"\\b\"\n",
    "    matches = re.findall(pattern, \" \".join(sentences))\n",
    "    print(len(matches))"
   ]
  }
 ],
 "metadata": {
  "kernelspec": {
   "display_name": "Python 3 (ipykernel)",
   "language": "python",
   "name": "python3"
  },
  "language_info": {
   "codemirror_mode": {
    "name": "ipython",
    "version": 3
   },
   "file_extension": ".py",
   "mimetype": "text/x-python",
   "name": "python",
   "nbconvert_exporter": "python",
   "pygments_lexer": "ipython3",
   "version": "3.12.3"
  }
 },
 "nbformat": 4,
 "nbformat_minor": 5
}
