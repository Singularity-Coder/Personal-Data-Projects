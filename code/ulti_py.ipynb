{
 "cells": [
  {
   "cell_type": "markdown",
   "id": "ebe88577-a362-458a-816a-6254d64b40e3",
   "metadata": {},
   "source": [
    "# Theory\n",
    "\n",
    "Only 3 data types in Python are mutable. All others are immutable.\n",
    "1. lists\n",
    "2. sets\n",
    "3. dictionaries"
   ]
  },
  {
   "cell_type": "code",
   "execution_count": 530,
   "id": "1c0b6da6-f947-4955-864a-b37443e949b3",
   "metadata": {},
   "outputs": [
    {
     "data": {
      "text/plain": [
       "4447837376"
      ]
     },
     "execution_count": 530,
     "metadata": {},
     "output_type": "execute_result"
    }
   ],
   "source": [
    "l = [1, 2, 3]\n",
    "id(l)"
   ]
  },
  {
   "cell_type": "code",
   "execution_count": 532,
   "id": "81b4c067-313a-4069-8106-b86ce6be2457",
   "metadata": {},
   "outputs": [
    {
     "data": {
      "text/plain": [
       "4447837376"
      ]
     },
     "execution_count": 532,
     "metadata": {},
     "output_type": "execute_result"
    }
   ],
   "source": [
    "l.extend([4, 5])\n",
    "id(l)"
   ]
  },
  {
   "cell_type": "markdown",
   "id": "81464e73-1093-40e3-8f24-7b9bb5847ebb",
   "metadata": {},
   "source": [
    "Address remains the same. Hence mutable."
   ]
  },
  {
   "cell_type": "code",
   "execution_count": 533,
   "id": "719c978c-0c2a-4180-9243-8b7b6ae47a00",
   "metadata": {},
   "outputs": [
    {
     "name": "stdout",
     "output_type": "stream",
     "text": [
      "3\n",
      "4385083896\n",
      "4\n",
      "4385083928\n"
     ]
    }
   ],
   "source": [
    "a = 3\n",
    "print(a)\n",
    "print(id(a))\n",
    "a = 4\n",
    "print(a)\n",
    "print(id(a))"
   ]
  },
  {
   "cell_type": "markdown",
   "id": "186f6fbe-b864-4618-b258-33c3613fbf27",
   "metadata": {},
   "source": [
    "Address changes. Hence immutable."
   ]
  },
  {
   "cell_type": "code",
   "execution_count": 539,
   "id": "d80ce7c6-f4a8-4b44-8bef-6ffb3a909d15",
   "metadata": {},
   "outputs": [
    {
     "ename": "AttributeError",
     "evalue": "'str' object has no attribute 'copy'",
     "output_type": "error",
     "traceback": [
      "\u001b[0;31m---------------------------------------------------------------------------\u001b[0m",
      "\u001b[0;31mAttributeError\u001b[0m                            Traceback (most recent call last)",
      "Cell \u001b[0;32mIn[539], line 2\u001b[0m\n\u001b[1;32m      1\u001b[0m b \u001b[38;5;241m=\u001b[39m \u001b[38;5;124m\"\u001b[39m\u001b[38;5;124m3\u001b[39m\u001b[38;5;124m\"\u001b[39m\n\u001b[0;32m----> 2\u001b[0m b \u001b[38;5;241m=\u001b[39m \u001b[43mb\u001b[49m\u001b[38;5;241;43m.\u001b[39;49m\u001b[43mcopy\u001b[49m()\n",
      "\u001b[0;31mAttributeError\u001b[0m: 'str' object has no attribute 'copy'"
     ]
    }
   ],
   "source": [
    "b = \"3\"\n",
    "b = b.copy()"
   ]
  },
  {
   "cell_type": "code",
   "execution_count": 541,
   "id": "6869a19a-3b8a-45d8-8e3c-7cb4a80e4288",
   "metadata": {},
   "outputs": [
    {
     "name": "stdout",
     "output_type": "stream",
     "text": [
      "4458679872\n",
      "4458678592\n"
     ]
    }
   ],
   "source": [
    "l = [1, 2]\n",
    "print(id(l))\n",
    "m = l.copy()\n",
    "print(id(m))"
   ]
  },
  {
   "cell_type": "markdown",
   "id": "fca0b512-392d-480d-951f-a7acd837e944",
   "metadata": {},
   "source": [
    "You can use copy() ref method on mutable types only."
   ]
  },
  {
   "cell_type": "markdown",
   "id": "640cbb2d-3511-4ab3-bc5e-e2583134718a",
   "metadata": {},
   "source": [
    "# String"
   ]
  },
  {
   "cell_type": "code",
   "execution_count": 259,
   "id": "6625813f-a95f-4900-a300-f0d338655a54",
   "metadata": {},
   "outputs": [
    {
     "data": {
      "text/plain": [
       "115"
      ]
     },
     "execution_count": 259,
     "metadata": {},
     "output_type": "execute_result"
    }
   ],
   "source": [
    "ord(\"s\")"
   ]
  },
  {
   "cell_type": "code",
   "execution_count": 261,
   "id": "da5b35e5-c990-4de3-95a4-91fc664b3d96",
   "metadata": {},
   "outputs": [
    {
     "data": {
      "text/plain": [
       "'s'"
      ]
     },
     "execution_count": 261,
     "metadata": {},
     "output_type": "execute_result"
    }
   ],
   "source": [
    "chr(115)"
   ]
  },
  {
   "cell_type": "code",
   "execution_count": 263,
   "id": "952fbcee-8824-4336-b303-83789fe6269b",
   "metadata": {},
   "outputs": [
    {
     "data": {
      "text/plain": [
       "'aaaaaaaaaa'"
      ]
     },
     "execution_count": 263,
     "metadata": {},
     "output_type": "execute_result"
    }
   ],
   "source": [
    "\"a\" * 10"
   ]
  },
  {
   "cell_type": "code",
   "execution_count": 265,
   "id": "6e925cd5-d1be-4d7c-b9e6-a3e62dd79d89",
   "metadata": {},
   "outputs": [
    {
     "data": {
      "text/plain": [
       "'Hi vu a'"
      ]
     },
     "execution_count": 265,
     "metadata": {},
     "output_type": "execute_result"
    }
   ],
   "source": [
    "\"hi vu a\".capitalize()"
   ]
  },
  {
   "cell_type": "code",
   "execution_count": 271,
   "id": "55f33126-9208-4fe2-8555-c11fb9b3c08f",
   "metadata": {},
   "outputs": [
    {
     "data": {
      "text/plain": [
       "'Hi Vu A'"
      ]
     },
     "execution_count": 271,
     "metadata": {},
     "output_type": "execute_result"
    }
   ],
   "source": [
    "\"hi vu a\".title()"
   ]
  },
  {
   "cell_type": "code",
   "execution_count": 274,
   "id": "bdf3e9b5-87ce-480d-a104-9306c571fde3",
   "metadata": {},
   "outputs": [
    {
     "data": {
      "text/plain": [
       "'#$Hit &*!Vu'"
      ]
     },
     "execution_count": 274,
     "metadata": {},
     "output_type": "execute_result"
    }
   ],
   "source": [
    "\"#$hit &*!vu\".title()"
   ]
  },
  {
   "cell_type": "code",
   "execution_count": 272,
   "id": "2c254513-469c-417b-bbb3-5aa5a6999730",
   "metadata": {},
   "outputs": [
    {
     "data": {
      "text/plain": [
       "'HI VU A'"
      ]
     },
     "execution_count": 272,
     "metadata": {},
     "output_type": "execute_result"
    }
   ],
   "source": [
    "\"hi vu a\".upper()"
   ]
  },
  {
   "cell_type": "code",
   "execution_count": 275,
   "id": "8049217e-1f91-459c-bab0-3dbe447edb4a",
   "metadata": {},
   "outputs": [
    {
     "data": {
      "text/plain": [
       "'#$HIT &*!VU'"
      ]
     },
     "execution_count": 275,
     "metadata": {},
     "output_type": "execute_result"
    }
   ],
   "source": [
    "\"#$hit &*!vu\".upper()"
   ]
  },
  {
   "cell_type": "code",
   "execution_count": 276,
   "id": "a6002db0-1cca-4368-a6f6-88720a703f2b",
   "metadata": {},
   "outputs": [
    {
     "data": {
      "text/plain": [
       "'hi vu a'"
      ]
     },
     "execution_count": 276,
     "metadata": {},
     "output_type": "execute_result"
    }
   ],
   "source": [
    "\"HI VU A\".lower()"
   ]
  },
  {
   "cell_type": "code",
   "execution_count": 278,
   "id": "0a02bbce-a2e6-4d1c-b07a-cb842fb79370",
   "metadata": {},
   "outputs": [
    {
     "data": {
      "text/plain": [
       "'#$hit &*!vu'"
      ]
     },
     "execution_count": 278,
     "metadata": {},
     "output_type": "execute_result"
    }
   ],
   "source": [
    "\"#$HIT &*!VU\".lower()"
   ]
  },
  {
   "cell_type": "code",
   "execution_count": 280,
   "id": "2b603692-3690-42f5-8ac7-4510894caace",
   "metadata": {},
   "outputs": [
    {
     "data": {
      "text/plain": [
       "3"
      ]
     },
     "execution_count": 280,
     "metadata": {},
     "output_type": "execute_result"
    }
   ],
   "source": [
    "\"hi he ha\".count(\"h\")"
   ]
  },
  {
   "cell_type": "code",
   "execution_count": 282,
   "id": "a80e6b67-0fa2-440f-b16f-866fee1d9e1f",
   "metadata": {},
   "outputs": [
    {
     "data": {
      "text/plain": [
       "3"
      ]
     },
     "execution_count": 282,
     "metadata": {},
     "output_type": "execute_result"
    }
   ],
   "source": [
    "\"hi hi he ha hi\".count(\"hi\")"
   ]
  },
  {
   "cell_type": "code",
   "execution_count": 284,
   "id": "1773a9de-8ce0-49b1-93ed-871238d993b1",
   "metadata": {},
   "outputs": [
    {
     "data": {
      "text/plain": [
       "'hu hu he ha hu'"
      ]
     },
     "execution_count": 284,
     "metadata": {},
     "output_type": "execute_result"
    }
   ],
   "source": [
    "\"hi hi he ha hi\".replace(\"hi\", \"hu\")"
   ]
  },
  {
   "cell_type": "code",
   "execution_count": 286,
   "id": "15cf6695-d821-4bbf-a539-0a3a9fef5d2c",
   "metadata": {},
   "outputs": [
    {
     "data": {
      "text/plain": [
       "['hi', 'hi', 'he', 'ha', 'hi']"
      ]
     },
     "execution_count": 286,
     "metadata": {},
     "output_type": "execute_result"
    }
   ],
   "source": [
    "\"hi hi he ha hi\".split()"
   ]
  },
  {
   "cell_type": "code",
   "execution_count": 288,
   "id": "32f24ffe-95dc-405a-887d-e62682a25ee9",
   "metadata": {},
   "outputs": [
    {
     "data": {
      "text/plain": [
       "['hi', 'hi', 'he', 'ha', 'hi']"
      ]
     },
     "execution_count": 288,
     "metadata": {},
     "output_type": "execute_result"
    }
   ],
   "source": [
    "\"hi hi he ha hi\".split(\" \")"
   ]
  },
  {
   "cell_type": "code",
   "execution_count": 291,
   "id": "b987a9dc-6cdb-4593-bb28-b08fa74330ff",
   "metadata": {},
   "outputs": [
    {
     "data": {
      "text/plain": [
       "['', 'i', 'i', 'e', 'a', 'i']"
      ]
     },
     "execution_count": 291,
     "metadata": {},
     "output_type": "execute_result"
    }
   ],
   "source": [
    "\"hihihehahi\".split(\"h\")"
   ]
  },
  {
   "cell_type": "code",
   "execution_count": 293,
   "id": "48e3d182-9856-4735-8ed2-33f79126c2d5",
   "metadata": {},
   "outputs": [
    {
     "data": {
      "text/plain": [
       "'hi hi he ha hi'"
      ]
     },
     "execution_count": 293,
     "metadata": {},
     "output_type": "execute_result"
    }
   ],
   "source": [
    "x = \"hi hi he ha hi\".split(\" \")\n",
    "\" \".join(x)"
   ]
  },
  {
   "cell_type": "code",
   "execution_count": 295,
   "id": "352359fd-3f9d-429e-97fb-e5d2b83de3a4",
   "metadata": {},
   "outputs": [
    {
     "data": {
      "text/plain": [
       "'hi==>hi==>he==>ha==>hi'"
      ]
     },
     "execution_count": 295,
     "metadata": {},
     "output_type": "execute_result"
    }
   ],
   "source": [
    "\"==>\".join(x)"
   ]
  },
  {
   "cell_type": "code",
   "execution_count": 298,
   "id": "9b29e47b-20c8-4c28-9e7e-cc9797b5677d",
   "metadata": {},
   "outputs": [
    {
     "data": {
      "text/plain": [
       "['h', 'e', 'l', 'l', 'o']"
      ]
     },
     "execution_count": 298,
     "metadata": {},
     "output_type": "execute_result"
    }
   ],
   "source": [
    "list(\"hello\")"
   ]
  },
  {
   "cell_type": "code",
   "execution_count": 300,
   "id": "0b6c1493-675e-4c80-81d7-c399376a2a41",
   "metadata": {},
   "outputs": [
    {
     "data": {
      "text/plain": [
       "'None'"
      ]
     },
     "execution_count": 300,
     "metadata": {},
     "output_type": "execute_result"
    }
   ],
   "source": [
    "str(None)"
   ]
  },
  {
   "cell_type": "code",
   "execution_count": 301,
   "id": "3e28ed7c-c2c0-4b92-b940-9f880e075f72",
   "metadata": {},
   "outputs": [
    {
     "data": {
      "text/plain": [
       "'True'"
      ]
     },
     "execution_count": 301,
     "metadata": {},
     "output_type": "execute_result"
    }
   ],
   "source": [
    "str(True)"
   ]
  },
  {
   "cell_type": "code",
   "execution_count": 303,
   "id": "cff11d50-1886-4d3b-89b2-0bb0bc0e08c1",
   "metadata": {},
   "outputs": [
    {
     "data": {
      "text/plain": [
       "'12.2'"
      ]
     },
     "execution_count": 303,
     "metadata": {},
     "output_type": "execute_result"
    }
   ],
   "source": [
    "str(12.2)"
   ]
  },
  {
   "cell_type": "code",
   "execution_count": 305,
   "id": "028c44ba-06e6-42da-8b47-05836579e986",
   "metadata": {},
   "outputs": [
    {
     "data": {
      "text/plain": [
       "0"
      ]
     },
     "execution_count": 305,
     "metadata": {},
     "output_type": "execute_result"
    }
   ],
   "source": [
    "\"hi ha hu ha\".find(\"h\")"
   ]
  },
  {
   "cell_type": "code",
   "execution_count": 307,
   "id": "a99bf246-e7ec-4894-8dfb-e58b90d8de02",
   "metadata": {},
   "outputs": [
    {
     "data": {
      "text/plain": [
       "6"
      ]
     },
     "execution_count": 307,
     "metadata": {},
     "output_type": "execute_result"
    }
   ],
   "source": [
    "\"hi ha hu ha\".find(\"hu\")"
   ]
  },
  {
   "cell_type": "code",
   "execution_count": 309,
   "id": "8b5463a9-defa-44b3-9028-ddbb2ec243b1",
   "metadata": {},
   "outputs": [
    {
     "data": {
      "text/plain": [
       "-1"
      ]
     },
     "execution_count": 309,
     "metadata": {},
     "output_type": "execute_result"
    }
   ],
   "source": [
    "\"hi ha hu ha\".find(\"huhe\")"
   ]
  },
  {
   "cell_type": "code",
   "execution_count": 311,
   "id": "242c981a-c716-4f18-9c54-06834ab522ca",
   "metadata": {},
   "outputs": [
    {
     "data": {
      "text/plain": [
       "True"
      ]
     },
     "execution_count": 311,
     "metadata": {},
     "output_type": "execute_result"
    }
   ],
   "source": [
    "\"hi ha hu ha\".islower()"
   ]
  },
  {
   "cell_type": "code",
   "execution_count": 314,
   "id": "0051f6bd-bce6-4e4a-b291-965804dd4979",
   "metadata": {},
   "outputs": [
    {
     "data": {
      "text/plain": [
       "False"
      ]
     },
     "execution_count": 314,
     "metadata": {},
     "output_type": "execute_result"
    }
   ],
   "source": [
    "\"hi Ha hu ha\".islower()"
   ]
  },
  {
   "cell_type": "code",
   "execution_count": 313,
   "id": "33d36092-ddbe-4348-8b54-019dc2033652",
   "metadata": {},
   "outputs": [
    {
     "data": {
      "text/plain": [
       "False"
      ]
     },
     "execution_count": 313,
     "metadata": {},
     "output_type": "execute_result"
    }
   ],
   "source": [
    "\"hi ha hu ha\".isupper()"
   ]
  },
  {
   "cell_type": "code",
   "execution_count": 317,
   "id": "415c3939-93f4-4ea9-9d5f-e2ac9db13e51",
   "metadata": {},
   "outputs": [
    {
     "data": {
      "text/plain": [
       "True"
      ]
     },
     "execution_count": 317,
     "metadata": {},
     "output_type": "execute_result"
    }
   ],
   "source": [
    "\"HA HU HA\".isupper()"
   ]
  },
  {
   "cell_type": "code",
   "execution_count": 319,
   "id": "87826879-6f03-44ad-b4d0-6e405b3aa42c",
   "metadata": {},
   "outputs": [
    {
     "data": {
      "text/plain": [
       "True"
      ]
     },
     "execution_count": 319,
     "metadata": {},
     "output_type": "execute_result"
    }
   ],
   "source": [
    "\"1322\".isdigit()"
   ]
  },
  {
   "cell_type": "code",
   "execution_count": 321,
   "id": "1e82c1b6-b186-418f-8cd2-43bd0f1e0bb4",
   "metadata": {},
   "outputs": [
    {
     "data": {
      "text/plain": [
       "False"
      ]
     },
     "execution_count": 321,
     "metadata": {},
     "output_type": "execute_result"
    }
   ],
   "source": [
    "\"12.0\".isdigit()"
   ]
  },
  {
   "cell_type": "code",
   "execution_count": 323,
   "id": "ba223a17-0144-4042-ab41-5d752b20dd35",
   "metadata": {},
   "outputs": [
    {
     "data": {
      "text/plain": [
       "False"
      ]
     },
     "execution_count": 323,
     "metadata": {},
     "output_type": "execute_result"
    }
   ],
   "source": [
    "\"23ad\".isdigit()"
   ]
  },
  {
   "cell_type": "code",
   "execution_count": 325,
   "id": "f39ecdc7-abf2-4155-8d91-be354b7e5d19",
   "metadata": {},
   "outputs": [
    {
     "data": {
      "text/plain": [
       "False"
      ]
     },
     "execution_count": 325,
     "metadata": {},
     "output_type": "execute_result"
    }
   ],
   "source": [
    "\"23ad\".isalpha()"
   ]
  },
  {
   "cell_type": "code",
   "execution_count": 327,
   "id": "0dd0675d-8be7-43e3-9982-9ec618cb3f80",
   "metadata": {},
   "outputs": [
    {
     "data": {
      "text/plain": [
       "True"
      ]
     },
     "execution_count": 327,
     "metadata": {},
     "output_type": "execute_result"
    }
   ],
   "source": [
    "\"alpha\".isalpha()"
   ]
  },
  {
   "cell_type": "code",
   "execution_count": 329,
   "id": "086ab40f-2087-4812-935c-8921b7ac7281",
   "metadata": {},
   "outputs": [
    {
     "data": {
      "text/plain": [
       "True"
      ]
     },
     "execution_count": 329,
     "metadata": {},
     "output_type": "execute_result"
    }
   ],
   "source": [
    "\"23ad\".isalnum()"
   ]
  },
  {
   "cell_type": "code",
   "execution_count": 331,
   "id": "9c58a09e-a8b0-4eec-9de7-189d767fe693",
   "metadata": {},
   "outputs": [
    {
     "data": {
      "text/plain": [
       "False"
      ]
     },
     "execution_count": 331,
     "metadata": {},
     "output_type": "execute_result"
    }
   ],
   "source": [
    "\"23.0ad\".isalnum()"
   ]
  },
  {
   "cell_type": "code",
   "execution_count": 333,
   "id": "b641e362-7df0-4896-a99a-45301532afef",
   "metadata": {},
   "outputs": [
    {
     "data": {
      "text/plain": [
       "True"
      ]
     },
     "execution_count": 333,
     "metadata": {},
     "output_type": "execute_result"
    }
   ],
   "source": [
    "\"3232\".isalnum()"
   ]
  },
  {
   "cell_type": "code",
   "execution_count": 335,
   "id": "918f1ec7-ed57-4a01-b38f-21a135bbf76f",
   "metadata": {},
   "outputs": [
    {
     "data": {
      "text/plain": [
       "True"
      ]
     },
     "execution_count": 335,
     "metadata": {},
     "output_type": "execute_result"
    }
   ],
   "source": [
    "\"alpha\".isalnum()"
   ]
  },
  {
   "cell_type": "code",
   "execution_count": 524,
   "id": "0fdcfd99-b184-40b4-bd56-0a3801ab64a3",
   "metadata": {},
   "outputs": [
    {
     "data": {
      "text/plain": [
       "True"
      ]
     },
     "execution_count": 524,
     "metadata": {},
     "output_type": "execute_result"
    }
   ],
   "source": [
    "\"       \".isspace()"
   ]
  },
  {
   "cell_type": "markdown",
   "id": "146e9e11-c1d6-402c-933e-1c34d8281191",
   "metadata": {},
   "source": [
    "# List"
   ]
  },
  {
   "cell_type": "markdown",
   "id": "0e481ed6-66cf-422f-ba90-740550858389",
   "metadata": {},
   "source": [
    "### Add Stuff"
   ]
  },
  {
   "cell_type": "code",
   "execution_count": 421,
   "id": "e183f94d-e944-4a8d-af00-aa03e7095050",
   "metadata": {},
   "outputs": [],
   "source": [
    "l = [67, 54, 101]"
   ]
  },
  {
   "cell_type": "code",
   "execution_count": 422,
   "id": "2a19edd7-9f95-44c9-b746-352153fecc32",
   "metadata": {},
   "outputs": [
    {
     "data": {
      "text/plain": [
       "[67, 54, 101, 20]"
      ]
     },
     "execution_count": 422,
     "metadata": {},
     "output_type": "execute_result"
    }
   ],
   "source": [
    "l.append(20)\n",
    "l"
   ]
  },
  {
   "cell_type": "code",
   "execution_count": 423,
   "id": "170cc80f-a8c3-4d4f-a8d8-b6c789a430f5",
   "metadata": {},
   "outputs": [
    {
     "data": {
      "text/plain": [
       "[67, 54, 101, 20, [31, 40]]"
      ]
     },
     "execution_count": 423,
     "metadata": {},
     "output_type": "execute_result"
    }
   ],
   "source": [
    "l.append([31, 40])\n",
    "l"
   ]
  },
  {
   "cell_type": "code",
   "execution_count": 424,
   "id": "e3138bef-a107-4173-87e3-2cd86fcd7fc9",
   "metadata": {},
   "outputs": [
    {
     "data": {
      "text/plain": [
       "[67, 54, 101, 20, [31, 40], (2, 3)]"
      ]
     },
     "execution_count": 424,
     "metadata": {},
     "output_type": "execute_result"
    }
   ],
   "source": [
    "l.append((2,3))\n",
    "l"
   ]
  },
  {
   "cell_type": "code",
   "execution_count": 425,
   "id": "bfa00cc8-ada4-4bd9-a04b-ea8312edf05f",
   "metadata": {},
   "outputs": [
    {
     "data": {
      "text/plain": [
       "[67, 54, 101, 20, [31, 40], (2, 3), {1, 2}]"
      ]
     },
     "execution_count": 425,
     "metadata": {},
     "output_type": "execute_result"
    }
   ],
   "source": [
    "l.append({1, 2})\n",
    "l"
   ]
  },
  {
   "cell_type": "code",
   "execution_count": 426,
   "id": "bc79430b-29fc-4ee1-8127-7eb5d059e3e5",
   "metadata": {},
   "outputs": [
    {
     "data": {
      "text/plain": [
       "[67, 54, 101, 20, [31, 40], (2, 3), {1, 2}, {'a': 1, 'b': 2}]"
      ]
     },
     "execution_count": 426,
     "metadata": {},
     "output_type": "execute_result"
    }
   ],
   "source": [
    "l.append({\"a\":1, \"b\":2})\n",
    "l"
   ]
  },
  {
   "cell_type": "code",
   "execution_count": 429,
   "id": "452f6f62-153a-45db-bf08-2ccc81d46c1b",
   "metadata": {},
   "outputs": [],
   "source": [
    "l.insert(0, 100000)"
   ]
  },
  {
   "cell_type": "code",
   "execution_count": 430,
   "id": "ab755907-da16-499d-a8c2-6f50ba6a17ff",
   "metadata": {},
   "outputs": [
    {
     "data": {
      "text/plain": [
       "[100000,\n",
       " 100000,\n",
       " [40, 30],\n",
       " 67,\n",
       " [40, 30],\n",
       " 54,\n",
       " 101,\n",
       " 20,\n",
       " [31, 40],\n",
       " (2, 3),\n",
       " {1, 2},\n",
       " {'a': 1, 'b': 2}]"
      ]
     },
     "execution_count": 430,
     "metadata": {},
     "output_type": "execute_result"
    }
   ],
   "source": [
    "l.insert(2, [40, 30])\n",
    "l"
   ]
  },
  {
   "cell_type": "code",
   "execution_count": 431,
   "id": "6bca4b37-7d43-4821-951d-57e120f2b142",
   "metadata": {},
   "outputs": [
    {
     "data": {
      "text/plain": [
       "[100000,\n",
       " 100000,\n",
       " [40, 30],\n",
       " 67,\n",
       " [40, 30],\n",
       " 54,\n",
       " 101,\n",
       " 20,\n",
       " [31, 40],\n",
       " (2, 3),\n",
       " {1, 2},\n",
       " {'a': 1, 'b': 2},\n",
       " 8,\n",
       " 9]"
      ]
     },
     "execution_count": 431,
     "metadata": {},
     "output_type": "execute_result"
    }
   ],
   "source": [
    "l.extend([8, 9])\n",
    "l"
   ]
  },
  {
   "cell_type": "code",
   "execution_count": 432,
   "id": "0999f6d4-7757-4835-b2d7-bbf7631296ac",
   "metadata": {},
   "outputs": [
    {
     "data": {
      "text/plain": [
       "[100000,\n",
       " 100000,\n",
       " [40, 30],\n",
       " 67,\n",
       " [40, 30],\n",
       " 54,\n",
       " 101,\n",
       " 20,\n",
       " [31, 40],\n",
       " (2, 3),\n",
       " {1, 2},\n",
       " {'a': 1, 'b': 2},\n",
       " 8,\n",
       " 9,\n",
       " 33,\n",
       " 42]"
      ]
     },
     "execution_count": 432,
     "metadata": {},
     "output_type": "execute_result"
    }
   ],
   "source": [
    "l = l + [33, 42]\n",
    "l"
   ]
  },
  {
   "cell_type": "markdown",
   "id": "a84a4f9c-f393-48fa-a9fe-ab8162e21a95",
   "metadata": {},
   "source": [
    "### Remove Stuff"
   ]
  },
  {
   "cell_type": "code",
   "execution_count": 230,
   "id": "541c64a3-fc7c-4e15-8d41-1fcf520ed942",
   "metadata": {},
   "outputs": [],
   "source": [
    "l = [67, 54, 101, 3, 5]"
   ]
  },
  {
   "cell_type": "code",
   "execution_count": 231,
   "id": "323d0618-f6ce-4b17-8fa7-0ca1f944c6af",
   "metadata": {},
   "outputs": [
    {
     "data": {
      "text/plain": [
       "5"
      ]
     },
     "execution_count": 231,
     "metadata": {},
     "output_type": "execute_result"
    }
   ],
   "source": [
    "x = l.pop()\n",
    "x"
   ]
  },
  {
   "cell_type": "code",
   "execution_count": 232,
   "id": "cc35289c-96bd-4389-8331-ab51e6eebb64",
   "metadata": {},
   "outputs": [
    {
     "data": {
      "text/plain": [
       "[67, 54, 101, 3]"
      ]
     },
     "execution_count": 232,
     "metadata": {},
     "output_type": "execute_result"
    }
   ],
   "source": [
    "l"
   ]
  },
  {
   "cell_type": "code",
   "execution_count": 233,
   "id": "199cd393-3042-4040-ac2b-61e46f80a66e",
   "metadata": {},
   "outputs": [
    {
     "data": {
      "text/plain": [
       "54"
      ]
     },
     "execution_count": 233,
     "metadata": {},
     "output_type": "execute_result"
    }
   ],
   "source": [
    "y = l.pop(1)\n",
    "y"
   ]
  },
  {
   "cell_type": "code",
   "execution_count": 234,
   "id": "1a6e86ac-6587-4dfa-b812-004916261945",
   "metadata": {},
   "outputs": [
    {
     "data": {
      "text/plain": [
       "[67, 101, 3]"
      ]
     },
     "execution_count": 234,
     "metadata": {},
     "output_type": "execute_result"
    }
   ],
   "source": [
    "l"
   ]
  },
  {
   "cell_type": "code",
   "execution_count": 235,
   "id": "0342b6d7-56c3-4389-9339-9a7f716c9346",
   "metadata": {},
   "outputs": [
    {
     "ename": "IndexError",
     "evalue": "pop index out of range",
     "output_type": "error",
     "traceback": [
      "\u001b[0;31m---------------------------------------------------------------------------\u001b[0m",
      "\u001b[0;31mIndexError\u001b[0m                                Traceback (most recent call last)",
      "Cell \u001b[0;32mIn[235], line 1\u001b[0m\n\u001b[0;32m----> 1\u001b[0m z \u001b[38;5;241m=\u001b[39m \u001b[43ml\u001b[49m\u001b[38;5;241;43m.\u001b[39;49m\u001b[43mpop\u001b[49m\u001b[43m(\u001b[49m\u001b[38;5;241;43m30\u001b[39;49m\u001b[43m)\u001b[49m\n",
      "\u001b[0;31mIndexError\u001b[0m: pop index out of range"
     ]
    }
   ],
   "source": [
    "z = l.pop(30)"
   ]
  },
  {
   "cell_type": "code",
   "execution_count": 236,
   "id": "867f270b-9fba-43bd-8496-85d0e9c8a444",
   "metadata": {},
   "outputs": [
    {
     "ename": "ValueError",
     "evalue": "list.remove(x): x not in list",
     "output_type": "error",
     "traceback": [
      "\u001b[0;31m---------------------------------------------------------------------------\u001b[0m",
      "\u001b[0;31mValueError\u001b[0m                                Traceback (most recent call last)",
      "Cell \u001b[0;32mIn[236], line 1\u001b[0m\n\u001b[0;32m----> 1\u001b[0m \u001b[43ml\u001b[49m\u001b[38;5;241;43m.\u001b[39;49m\u001b[43mremove\u001b[49m\u001b[43m(\u001b[49m\u001b[38;5;241;43m30\u001b[39;49m\u001b[43m)\u001b[49m\n",
      "\u001b[0;31mValueError\u001b[0m: list.remove(x): x not in list"
     ]
    }
   ],
   "source": [
    "l.remove(30)"
   ]
  },
  {
   "cell_type": "markdown",
   "id": "e0f7fd9f-b5f0-44e3-b8b4-f5bbd0f1abc8",
   "metadata": {},
   "source": [
    "l.remove(101)\n",
    "l"
   ]
  },
  {
   "cell_type": "markdown",
   "id": "3ddbeeda-9097-4a05-b3bc-ae804e57a28c",
   "metadata": {},
   "source": [
    "### Methods"
   ]
  },
  {
   "cell_type": "code",
   "execution_count": 501,
   "id": "3fe652a3-da82-481b-a6a6-5067d9f656fb",
   "metadata": {},
   "outputs": [],
   "source": [
    "l = [1,1,2,2,2,3,4]"
   ]
  },
  {
   "cell_type": "code",
   "execution_count": 440,
   "id": "a6e1b251-fee6-41f9-b6a5-d4104003fad2",
   "metadata": {},
   "outputs": [
    {
     "data": {
      "text/plain": [
       "15"
      ]
     },
     "execution_count": 440,
     "metadata": {},
     "output_type": "execute_result"
    }
   ],
   "source": [
    "x = sum(l)\n",
    "x"
   ]
  },
  {
   "cell_type": "code",
   "execution_count": 441,
   "id": "bc7d8156-d843-4745-ab9b-f6edda4075f7",
   "metadata": {},
   "outputs": [
    {
     "data": {
      "text/plain": [
       "3"
      ]
     },
     "execution_count": 441,
     "metadata": {},
     "output_type": "execute_result"
    }
   ],
   "source": [
    "x = l.count(2)\n",
    "x"
   ]
  },
  {
   "cell_type": "code",
   "execution_count": 442,
   "id": "5c8d68d9-d680-44aa-a098-9675f554c5ea",
   "metadata": {},
   "outputs": [
    {
     "data": {
      "text/plain": [
       "1"
      ]
     },
     "execution_count": 442,
     "metadata": {},
     "output_type": "execute_result"
    }
   ],
   "source": [
    "x = min(l)\n",
    "x"
   ]
  },
  {
   "cell_type": "code",
   "execution_count": 443,
   "id": "73ad8de2-289d-4d84-8ad9-4ee01bd0c3ee",
   "metadata": {},
   "outputs": [
    {
     "data": {
      "text/plain": [
       "4"
      ]
     },
     "execution_count": 443,
     "metadata": {},
     "output_type": "execute_result"
    }
   ],
   "source": [
    "x = max(l)\n",
    "x"
   ]
  },
  {
   "cell_type": "code",
   "execution_count": 503,
   "id": "db78a2b6-e03c-471d-b0d7-9c9a4bd1e9bb",
   "metadata": {},
   "outputs": [
    {
     "data": {
      "text/plain": [
       "2"
      ]
     },
     "execution_count": 503,
     "metadata": {},
     "output_type": "execute_result"
    }
   ],
   "source": [
    "l.index(2)"
   ]
  },
  {
   "cell_type": "code",
   "execution_count": 512,
   "id": "ded259f7-66b8-482a-b3e1-0d0db7b6319d",
   "metadata": {},
   "outputs": [
    {
     "data": {
      "text/plain": [
       "[3, 2, 1]"
      ]
     },
     "execution_count": 512,
     "metadata": {},
     "output_type": "execute_result"
    }
   ],
   "source": [
    "l = [1, 2, 3]\n",
    "l.reverse() # reverses original list\n",
    "l "
   ]
  },
  {
   "cell_type": "code",
   "execution_count": 522,
   "id": "61c4def6-2623-40be-bbc3-60273395755a",
   "metadata": {},
   "outputs": [
    {
     "name": "stdout",
     "output_type": "stream",
     "text": [
      "[3, 2, 1]\n"
     ]
    },
    {
     "data": {
      "text/plain": [
       "[1, 2, 3]"
      ]
     },
     "execution_count": 522,
     "metadata": {},
     "output_type": "execute_result"
    }
   ],
   "source": [
    "l = [1, 2, 3]\n",
    "print(l[::-1]) # creates a copy\n",
    "l"
   ]
  },
  {
   "cell_type": "code",
   "execution_count": 523,
   "id": "c6f97ac6-8c0d-4de0-91ef-fe2b473e5097",
   "metadata": {},
   "outputs": [
    {
     "name": "stdout",
     "output_type": "stream",
     "text": [
      "[3, 2, 1]\n"
     ]
    },
    {
     "data": {
      "text/plain": [
       "[1, 2, 3]"
      ]
     },
     "execution_count": 523,
     "metadata": {},
     "output_type": "execute_result"
    }
   ],
   "source": [
    "l = [1, 2, 3]\n",
    "print(list(reversed(l))) # creates copy\n",
    "l"
   ]
  },
  {
   "cell_type": "code",
   "execution_count": 445,
   "id": "77129d92-e2ad-43aa-8820-b1908649610c",
   "metadata": {},
   "outputs": [
    {
     "data": {
      "text/plain": [
       "\u001b[0;31mInit signature:\u001b[0m \u001b[0mzip\u001b[0m\u001b[0;34m(\u001b[0m\u001b[0mself\u001b[0m\u001b[0;34m,\u001b[0m \u001b[0;34m/\u001b[0m\u001b[0;34m,\u001b[0m \u001b[0;34m*\u001b[0m\u001b[0margs\u001b[0m\u001b[0;34m,\u001b[0m \u001b[0;34m**\u001b[0m\u001b[0mkwargs\u001b[0m\u001b[0;34m)\u001b[0m\u001b[0;34m\u001b[0m\u001b[0;34m\u001b[0m\u001b[0m\n",
       "\u001b[0;31mDocstring:\u001b[0m     \n",
       "zip(*iterables, strict=False) --> Yield tuples until an input is exhausted.\n",
       "\n",
       "   >>> list(zip('abcdefg', range(3), range(4)))\n",
       "   [('a', 0, 0), ('b', 1, 1), ('c', 2, 2)]\n",
       "\n",
       "The zip object yields n-length tuples, where n is the number of iterables\n",
       "passed as positional arguments to zip().  The i-th element in every tuple\n",
       "comes from the i-th iterable argument to zip().  This continues until the\n",
       "shortest argument is exhausted.\n",
       "\n",
       "If strict is true and one of the arguments is exhausted before the others,\n",
       "raise a ValueError.\n",
       "\u001b[0;31mType:\u001b[0m           type\n",
       "\u001b[0;31mSubclasses:\u001b[0m     "
      ]
     },
     "metadata": {},
     "output_type": "display_data"
    }
   ],
   "source": [
    "zip?"
   ]
  },
  {
   "cell_type": "code",
   "execution_count": 446,
   "id": "c4a84b51-ae67-44c5-8eac-c4f3217b6f19",
   "metadata": {},
   "outputs": [
    {
     "data": {
      "text/plain": [
       "[('Hit', 331), ('Vu', 44), ('Ja', 3)]"
      ]
     },
     "execution_count": 446,
     "metadata": {},
     "output_type": "execute_result"
    }
   ],
   "source": [
    "names = [\"Hit\", \"Vu\", \"Ja\"]\n",
    "ages = [331, 44, 3, 1000]\n",
    "d = list(zip(names, ages))\n",
    "d"
   ]
  },
  {
   "cell_type": "markdown",
   "id": "05699246-5ff9-4c0a-8aa6-f5377798fbe6",
   "metadata": {},
   "source": [
    "# Tuple"
   ]
  },
  {
   "cell_type": "markdown",
   "id": "c31bb77b-f72a-4392-8e09-7b0c7bbd48ea",
   "metadata": {},
   "source": [
    "### Definition"
   ]
  },
  {
   "cell_type": "code",
   "execution_count": 337,
   "id": "b7ac8591-6039-478d-a155-8231c1ef937f",
   "metadata": {},
   "outputs": [
    {
     "data": {
      "text/plain": [
       "()"
      ]
     },
     "execution_count": 337,
     "metadata": {},
     "output_type": "execute_result"
    }
   ],
   "source": [
    "t = tuple() # tuples r 10x faster than lists as they r immutable\n",
    "t"
   ]
  },
  {
   "cell_type": "code",
   "execution_count": 542,
   "id": "873869f5-2ab0-4dc7-a718-0a0a53f25aef",
   "metadata": {},
   "outputs": [
    {
     "data": {
      "text/plain": [
       "int"
      ]
     },
     "execution_count": 542,
     "metadata": {},
     "output_type": "execute_result"
    }
   ],
   "source": [
    "t = (2)\n",
    "type(t)"
   ]
  },
  {
   "cell_type": "code",
   "execution_count": 340,
   "id": "8c2aef0a-41d8-46b1-9a92-9e693dd2426e",
   "metadata": {},
   "outputs": [
    {
     "data": {
      "text/plain": [
       "(2,)"
      ]
     },
     "execution_count": 340,
     "metadata": {},
     "output_type": "execute_result"
    }
   ],
   "source": [
    "t = (2,)\n",
    "t"
   ]
  },
  {
   "cell_type": "code",
   "execution_count": 543,
   "id": "1ab129a4-4614-4389-85cf-0ccdb6d4d032",
   "metadata": {},
   "outputs": [
    {
     "data": {
      "text/plain": [
       "str"
      ]
     },
     "execution_count": 543,
     "metadata": {},
     "output_type": "execute_result"
    }
   ],
   "source": [
    "t = (\"Hello\")\n",
    "type(t)"
   ]
  },
  {
   "cell_type": "code",
   "execution_count": 343,
   "id": "47600f26-59c2-43e4-8e9d-dba7d3a60038",
   "metadata": {},
   "outputs": [
    {
     "data": {
      "text/plain": [
       "('H', 'e', 'l', 'l', 'o')"
      ]
     },
     "execution_count": 343,
     "metadata": {},
     "output_type": "execute_result"
    }
   ],
   "source": [
    "t = tuple(\"Hello\")\n",
    "t"
   ]
  },
  {
   "cell_type": "code",
   "execution_count": 345,
   "id": "35141f21-28cf-4440-ba05-f937d4f35d70",
   "metadata": {},
   "outputs": [
    {
     "data": {
      "text/plain": [
       "('H', 'e', 'l', 'l', 'o')"
      ]
     },
     "execution_count": 345,
     "metadata": {},
     "output_type": "execute_result"
    }
   ],
   "source": [
    "t = tuple(\"Hello\",)\n",
    "t"
   ]
  },
  {
   "cell_type": "code",
   "execution_count": 347,
   "id": "5dabe379-220f-4347-b201-fd99db8c183a",
   "metadata": {},
   "outputs": [
    {
     "data": {
      "text/plain": [
       "(1, 2, 3)"
      ]
     },
     "execution_count": 347,
     "metadata": {},
     "output_type": "execute_result"
    }
   ],
   "source": [
    "def foo():\n",
    "    return 1, 2, 3\n",
    "\n",
    "foo()"
   ]
  },
  {
   "cell_type": "code",
   "execution_count": 349,
   "id": "c711e645-36dc-4c91-ac25-f804ba91ebce",
   "metadata": {},
   "outputs": [
    {
     "data": {
      "text/plain": [
       "1"
      ]
     },
     "execution_count": 349,
     "metadata": {},
     "output_type": "execute_result"
    }
   ],
   "source": [
    "a, b, c = foo()\n",
    "a"
   ]
  },
  {
   "cell_type": "code",
   "execution_count": 352,
   "id": "094d942e-7081-43f7-9947-3297bc507bbf",
   "metadata": {},
   "outputs": [
    {
     "data": {
      "text/plain": [
       "([1, 2], 2, {2, 3}, 2, {'a': 1, 'b': 2}, (3, 4), 'Hello')"
      ]
     },
     "execution_count": 352,
     "metadata": {},
     "output_type": "execute_result"
    }
   ],
   "source": [
    "t = ([1, 2], 2, {2, 3}, 2, {\"a\" : 1, \"b\" : 2}, (3, 4), \"Hello\")\n",
    "t"
   ]
  },
  {
   "cell_type": "markdown",
   "id": "353450f2-103c-43c2-a5c7-5e963cf412c0",
   "metadata": {},
   "source": [
    "### Add Stuff"
   ]
  },
  {
   "cell_type": "code",
   "execution_count": 357,
   "id": "6584a362-7748-4990-a7c7-643e5ec0cefc",
   "metadata": {},
   "outputs": [
    {
     "data": {
      "text/plain": [
       "(1, 2, 3, 4)"
      ]
     },
     "execution_count": 357,
     "metadata": {},
     "output_type": "execute_result"
    }
   ],
   "source": [
    "x = (1,)\n",
    "y = (2, 3, 4)\n",
    "z = x + y # this is because we r creating z and not updating. so this is allowed\n",
    "z"
   ]
  },
  {
   "cell_type": "markdown",
   "id": "608fcf0f-37d8-4439-a7f7-184148ffd31e",
   "metadata": {},
   "source": [
    "### Methods"
   ]
  },
  {
   "cell_type": "code",
   "execution_count": 450,
   "id": "d033cbab-2d84-4122-a846-3f66d29849a5",
   "metadata": {},
   "outputs": [
    {
     "data": {
      "text/plain": [
       "(('Hit', 331), ('Vu', 44), ('Ja', 3))"
      ]
     },
     "execution_count": 450,
     "metadata": {},
     "output_type": "execute_result"
    }
   ],
   "source": [
    "names = (\"Hit\", \"Vu\", \"Ja\")\n",
    "ages = (331, 44, 3, 1000)\n",
    "d = tuple(zip(names, ages))\n",
    "d"
   ]
  },
  {
   "cell_type": "markdown",
   "id": "16a973d2-fcc6-4721-89a3-6ac021d1695c",
   "metadata": {},
   "source": [
    "# Set\n",
    "* Sets can store `strings`, `tuples`, and `booleans` inside them all at once.\n",
    "* Mutable types not allowed. Sets cannot store `lists`, `sets`, and `dictionaries` within them."
   ]
  },
  {
   "cell_type": "markdown",
   "id": "68e94501-c3a5-4201-bd0c-57b39bb21e85",
   "metadata": {},
   "source": [
    "### Definition"
   ]
  },
  {
   "cell_type": "code",
   "execution_count": 362,
   "id": "2a8ec1cc-8f26-4a71-8f44-e6eee5ee7424",
   "metadata": {},
   "outputs": [
    {
     "data": {
      "text/plain": [
       "set"
      ]
     },
     "execution_count": 362,
     "metadata": {},
     "output_type": "execute_result"
    }
   ],
   "source": [
    "s = set()\n",
    "type(s)"
   ]
  },
  {
   "cell_type": "code",
   "execution_count": 364,
   "id": "a02bc5f6-dbe3-43df-9d8b-d95e45a8daf4",
   "metadata": {},
   "outputs": [
    {
     "data": {
      "text/plain": [
       "dict"
      ]
     },
     "execution_count": 364,
     "metadata": {},
     "output_type": "execute_result"
    }
   ],
   "source": [
    "s = {}\n",
    "type(s)"
   ]
  },
  {
   "cell_type": "code",
   "execution_count": 366,
   "id": "d17fb77d-1a7b-46eb-84db-56b1f595a1eb",
   "metadata": {},
   "outputs": [
    {
     "data": {
      "text/plain": [
       "set"
      ]
     },
     "execution_count": 366,
     "metadata": {},
     "output_type": "execute_result"
    }
   ],
   "source": [
    "s = {1,}\n",
    "type(s)"
   ]
  },
  {
   "cell_type": "code",
   "execution_count": 368,
   "id": "9f386f41-5cc8-4068-8496-f4ab40550d6c",
   "metadata": {},
   "outputs": [
    {
     "data": {
      "text/plain": [
       "{'Hello'}"
      ]
     },
     "execution_count": 368,
     "metadata": {},
     "output_type": "execute_result"
    }
   ],
   "source": [
    "s = {\"Hello\"}\n",
    "s"
   ]
  },
  {
   "cell_type": "code",
   "execution_count": 371,
   "id": "0d749a43-e016-48ba-9546-da333242c567",
   "metadata": {},
   "outputs": [
    {
     "data": {
      "text/plain": [
       "{'H', 'e', 'l', 'o'}"
      ]
     },
     "execution_count": 371,
     "metadata": {},
     "output_type": "execute_result"
    }
   ],
   "source": [
    "s = set(\"Hello\")\n",
    "s"
   ]
  },
  {
   "cell_type": "code",
   "execution_count": 544,
   "id": "cf9f7c88-b702-4a62-8a66-addfbe7e5013",
   "metadata": {},
   "outputs": [
    {
     "data": {
      "text/plain": [
       "{(1, 3), 22, 4.0, 'Hello', True}"
      ]
     },
     "execution_count": 544,
     "metadata": {},
     "output_type": "execute_result"
    }
   ],
   "source": [
    "s = {(1, 3), \"Hello\", True, 22, 4.0}\n",
    "s"
   ]
  },
  {
   "cell_type": "markdown",
   "id": "d1a0fc2b-994d-47f0-a895-1dbdf2b6d9d5",
   "metadata": {},
   "source": [
    "### Add Stuff"
   ]
  },
  {
   "cell_type": "code",
   "execution_count": 397,
   "id": "e97c0a97-70b2-4998-af2d-616c0275c421",
   "metadata": {},
   "outputs": [
    {
     "data": {
      "text/plain": [
       "{1, 2, 3, 4}"
      ]
     },
     "execution_count": 397,
     "metadata": {},
     "output_type": "execute_result"
    }
   ],
   "source": [
    "s = {1, 2, 3, 4}\n",
    "s"
   ]
  },
  {
   "cell_type": "code",
   "execution_count": 398,
   "id": "fcb96870-f6a4-4032-b636-cfc1044c17d6",
   "metadata": {},
   "outputs": [
    {
     "data": {
      "text/plain": [
       "{1, 2, 3, 4, 5}"
      ]
     },
     "execution_count": 398,
     "metadata": {},
     "output_type": "execute_result"
    }
   ],
   "source": [
    "s.add(5)\n",
    "s"
   ]
  },
  {
   "cell_type": "code",
   "execution_count": 399,
   "id": "34732f75-2b20-40b1-9328-23377c475634",
   "metadata": {},
   "outputs": [
    {
     "data": {
      "text/plain": [
       "{1, 2, 3, 4, 5, 6, 7}"
      ]
     },
     "execution_count": 399,
     "metadata": {},
     "output_type": "execute_result"
    }
   ],
   "source": [
    "s.update({6,7})\n",
    "s"
   ]
  },
  {
   "cell_type": "code",
   "execution_count": 400,
   "id": "c078c263-b2cc-4b86-8662-3c9c1863d543",
   "metadata": {},
   "outputs": [
    {
     "data": {
      "text/plain": [
       "{1, 2, 3, 4, 5, 6, 7, 8, 9}"
      ]
     },
     "execution_count": 400,
     "metadata": {},
     "output_type": "execute_result"
    }
   ],
   "source": [
    "s.update([8,9])\n",
    "s"
   ]
  },
  {
   "cell_type": "code",
   "execution_count": 403,
   "id": "42b1ba25-27c0-45d8-a252-81e98e667064",
   "metadata": {},
   "outputs": [
    {
     "data": {
      "text/plain": [
       "{'H', 'e', 'l', 'o'}"
      ]
     },
     "execution_count": 403,
     "metadata": {},
     "output_type": "execute_result"
    }
   ],
   "source": [
    "s = set()\n",
    "s.update(\"Hello\")\n",
    "s"
   ]
  },
  {
   "cell_type": "code",
   "execution_count": 404,
   "id": "495dbfc8-e717-4e3f-b2d0-c30de619a609",
   "metadata": {},
   "outputs": [
    {
     "data": {
      "text/plain": [
       "{'H', 'Hello', 'e', 'l', 'o'}"
      ]
     },
     "execution_count": 404,
     "metadata": {},
     "output_type": "execute_result"
    }
   ],
   "source": [
    "s.update({\"Hello\",})\n",
    "s"
   ]
  },
  {
   "cell_type": "markdown",
   "id": "18b9dee5-f592-49e6-995d-517721cd47ac",
   "metadata": {},
   "source": [
    "### Remove Stuff"
   ]
  },
  {
   "cell_type": "code",
   "execution_count": 378,
   "id": "f274d693-e646-4b8a-a5b8-e83b782a69d6",
   "metadata": {},
   "outputs": [
    {
     "data": {
      "text/plain": [
       "1"
      ]
     },
     "execution_count": 378,
     "metadata": {},
     "output_type": "execute_result"
    }
   ],
   "source": [
    "s = {1, 2, 3, 4}\n",
    "x = s.pop() # removes randomly as not indexed\n",
    "x"
   ]
  },
  {
   "cell_type": "code",
   "execution_count": 379,
   "id": "f5002db0-a152-46dc-b053-bb0917068de0",
   "metadata": {},
   "outputs": [
    {
     "data": {
      "text/plain": [
       "{2, 3, 4}"
      ]
     },
     "execution_count": 379,
     "metadata": {},
     "output_type": "execute_result"
    }
   ],
   "source": [
    "s"
   ]
  },
  {
   "cell_type": "code",
   "execution_count": 380,
   "id": "9459403f-a5cb-4f4d-817a-0fb9d2009e22",
   "metadata": {},
   "outputs": [
    {
     "data": {
      "text/plain": [
       "{3, 4}"
      ]
     },
     "execution_count": 380,
     "metadata": {},
     "output_type": "execute_result"
    }
   ],
   "source": [
    "s.remove(2)\n",
    "s"
   ]
  },
  {
   "cell_type": "code",
   "execution_count": 381,
   "id": "7f635e2a-88b9-466d-bc49-6f57f7a9d66c",
   "metadata": {},
   "outputs": [],
   "source": [
    "del s # deletes from memory"
   ]
  },
  {
   "cell_type": "code",
   "execution_count": 383,
   "id": "1c6d8c47-d8d8-4697-8d24-f967725f8d64",
   "metadata": {},
   "outputs": [
    {
     "ename": "NameError",
     "evalue": "name 's' is not defined",
     "output_type": "error",
     "traceback": [
      "\u001b[0;31m---------------------------------------------------------------------------\u001b[0m",
      "\u001b[0;31mNameError\u001b[0m                                 Traceback (most recent call last)",
      "Cell \u001b[0;32mIn[383], line 1\u001b[0m\n\u001b[0;32m----> 1\u001b[0m \u001b[43ms\u001b[49m\n",
      "\u001b[0;31mNameError\u001b[0m: name 's' is not defined"
     ]
    }
   ],
   "source": [
    "s"
   ]
  },
  {
   "cell_type": "markdown",
   "id": "e19bcee1-bdf4-429d-845f-c040a6788743",
   "metadata": {},
   "source": [
    "### Special Set Methods"
   ]
  },
  {
   "cell_type": "code",
   "execution_count": 405,
   "id": "4cdb0891-0c13-4000-8c46-460d620e9b43",
   "metadata": {},
   "outputs": [],
   "source": [
    "s1 = {1, 2, 3, 4}\n",
    "s2 = {3, 4, 5, 6}"
   ]
  },
  {
   "cell_type": "code",
   "execution_count": 414,
   "id": "dc048a01-fff6-4502-824b-56cab1898816",
   "metadata": {},
   "outputs": [
    {
     "data": {
      "text/plain": [
       "{3, 4}"
      ]
     },
     "execution_count": 414,
     "metadata": {},
     "output_type": "execute_result"
    }
   ],
   "source": [
    "s1.intersection(s2)"
   ]
  },
  {
   "cell_type": "code",
   "execution_count": 415,
   "id": "1619ce78-5729-41fb-bd7f-b6596b5a4384",
   "metadata": {},
   "outputs": [
    {
     "data": {
      "text/plain": [
       "{1, 2, 3, 4, 5, 6}"
      ]
     },
     "execution_count": 415,
     "metadata": {},
     "output_type": "execute_result"
    }
   ],
   "source": [
    "s1.union(s2)"
   ]
  },
  {
   "cell_type": "code",
   "execution_count": 416,
   "id": "81ce7c3c-f799-4e94-8255-40cce6abf812",
   "metadata": {},
   "outputs": [
    {
     "data": {
      "text/plain": [
       "{1, 2}"
      ]
     },
     "execution_count": 416,
     "metadata": {},
     "output_type": "execute_result"
    }
   ],
   "source": [
    "s1.difference(s2)"
   ]
  },
  {
   "cell_type": "code",
   "execution_count": 418,
   "id": "52819ff4-f247-47aa-850a-f1bb6db3c2dd",
   "metadata": {},
   "outputs": [
    {
     "data": {
      "text/plain": [
       "{1, 2, 5, 6}"
      ]
     },
     "execution_count": 418,
     "metadata": {},
     "output_type": "execute_result"
    }
   ],
   "source": [
    "s1.symmetric_difference(s2)"
   ]
  },
  {
   "cell_type": "code",
   "execution_count": 452,
   "id": "7aa9a8ee-660a-4f65-9c71-89ef6f65369e",
   "metadata": {},
   "outputs": [
    {
     "data": {
      "text/plain": [
       "{('Hit', 331), ('Ja', 3), ('Vu', 1000)}"
      ]
     },
     "execution_count": 452,
     "metadata": {},
     "output_type": "execute_result"
    }
   ],
   "source": [
    "names = {\"Hit\", \"Vu\", \"Ja\"}\n",
    "ages = {331, 44, 3, 1000}\n",
    "d = set(zip(names, ages))\n",
    "d"
   ]
  },
  {
   "cell_type": "markdown",
   "id": "413d640c-664b-4a64-8bb0-64aca242e710",
   "metadata": {},
   "source": [
    "# Dictionaries\n",
    "* Dictionaries are **not ordered** or **subscriptable**.\n",
    "* You access a value directly by using its **key**.\n",
    "* **Keys** - Mutable types not allowed. Lists, Sets and Dictionaries are not allowed.\n",
    "* **Values** - Can store any data structure or any data type."
   ]
  },
  {
   "cell_type": "markdown",
   "id": "33589dff-7357-465c-9d88-d88c6c1e0f85",
   "metadata": {},
   "source": [
    "### Definition"
   ]
  },
  {
   "cell_type": "code",
   "execution_count": 434,
   "id": "39fface2-538c-4653-82e5-6bdcbf51165a",
   "metadata": {},
   "outputs": [
    {
     "data": {
      "text/plain": [
       "dict"
      ]
     },
     "execution_count": 434,
     "metadata": {},
     "output_type": "execute_result"
    }
   ],
   "source": [
    "d = {}\n",
    "type(d)"
   ]
  },
  {
   "cell_type": "markdown",
   "id": "2f1bbc51-6322-4f68-a3b5-6d2a3f773857",
   "metadata": {},
   "source": [
    "### Access"
   ]
  },
  {
   "cell_type": "code",
   "execution_count": 460,
   "id": "89078c8d-ba6f-4dae-b0b8-19ec5c4c4f46",
   "metadata": {},
   "outputs": [],
   "source": [
    "d = {\"a\" : 1, \"b\" : 2}"
   ]
  },
  {
   "cell_type": "code",
   "execution_count": 461,
   "id": "41d0e42c-a3ae-40cc-870d-9b689e14fe21",
   "metadata": {},
   "outputs": [
    {
     "data": {
      "text/plain": [
       "1"
      ]
     },
     "execution_count": 461,
     "metadata": {},
     "output_type": "execute_result"
    }
   ],
   "source": [
    "d[\"a\"]"
   ]
  },
  {
   "cell_type": "code",
   "execution_count": 472,
   "id": "ef043c55-1c9b-404e-9a42-a18e5ab5d860",
   "metadata": {},
   "outputs": [
    {
     "data": {
      "text/plain": [
       "\u001b[0;31mSignature:\u001b[0m \u001b[0md\u001b[0m\u001b[0;34m.\u001b[0m\u001b[0mget\u001b[0m\u001b[0;34m(\u001b[0m\u001b[0mkey\u001b[0m\u001b[0;34m,\u001b[0m \u001b[0mdefault\u001b[0m\u001b[0;34m=\u001b[0m\u001b[0;32mNone\u001b[0m\u001b[0;34m,\u001b[0m \u001b[0;34m/\u001b[0m\u001b[0;34m)\u001b[0m\u001b[0;34m\u001b[0m\u001b[0;34m\u001b[0m\u001b[0m\n",
       "\u001b[0;31mDocstring:\u001b[0m Return the value for key if key is in the dictionary, else default.\n",
       "\u001b[0;31mType:\u001b[0m      builtin_function_or_method"
      ]
     },
     "metadata": {},
     "output_type": "display_data"
    }
   ],
   "source": [
    "d.get?"
   ]
  },
  {
   "cell_type": "code",
   "execution_count": 471,
   "id": "5c1dec35-e52a-49f0-bbaf-2943b7845245",
   "metadata": {},
   "outputs": [
    {
     "data": {
      "text/plain": [
       "0"
      ]
     },
     "execution_count": 471,
     "metadata": {},
     "output_type": "execute_result"
    }
   ],
   "source": [
    "d.get(\"c\", 0)"
   ]
  },
  {
   "cell_type": "code",
   "execution_count": 468,
   "id": "ced01a09-0e24-4757-9439-f478007f90fa",
   "metadata": {},
   "outputs": [
    {
     "data": {
      "text/plain": [
       "True"
      ]
     },
     "execution_count": 468,
     "metadata": {},
     "output_type": "execute_result"
    }
   ],
   "source": [
    "d.get(\"c\", None) == None"
   ]
  },
  {
   "cell_type": "code",
   "execution_count": 469,
   "id": "3a804508-af2c-402f-a441-b28c681bea47",
   "metadata": {},
   "outputs": [
    {
     "data": {
      "text/plain": [
       "'NA'"
      ]
     },
     "execution_count": 469,
     "metadata": {},
     "output_type": "execute_result"
    }
   ],
   "source": [
    "d.get(\"c\", \"NA\")"
   ]
  },
  {
   "cell_type": "code",
   "execution_count": 459,
   "id": "08337c08-ab99-475c-b0ee-85b27229c2e0",
   "metadata": {},
   "outputs": [
    {
     "ename": "KeyError",
     "evalue": "0",
     "output_type": "error",
     "traceback": [
      "\u001b[0;31m---------------------------------------------------------------------------\u001b[0m",
      "\u001b[0;31mKeyError\u001b[0m                                  Traceback (most recent call last)",
      "Cell \u001b[0;32mIn[459], line 1\u001b[0m\n\u001b[0;32m----> 1\u001b[0m \u001b[43md\u001b[49m\u001b[43m[\u001b[49m\u001b[38;5;241;43m0\u001b[39;49m\u001b[43m]\u001b[49m\n",
      "\u001b[0;31mKeyError\u001b[0m: 0"
     ]
    }
   ],
   "source": [
    "d[0]"
   ]
  },
  {
   "cell_type": "code",
   "execution_count": 458,
   "id": "cb1ebb81-4496-4b6e-8cc6-6e8db1099f69",
   "metadata": {},
   "outputs": [
    {
     "ename": "KeyError",
     "evalue": "'Hello'",
     "output_type": "error",
     "traceback": [
      "\u001b[0;31m---------------------------------------------------------------------------\u001b[0m",
      "\u001b[0;31mKeyError\u001b[0m                                  Traceback (most recent call last)",
      "Cell \u001b[0;32mIn[458], line 1\u001b[0m\n\u001b[0;32m----> 1\u001b[0m \u001b[43md\u001b[49m\u001b[43m[\u001b[49m\u001b[38;5;124;43m\"\u001b[39;49m\u001b[38;5;124;43mHello\u001b[39;49m\u001b[38;5;124;43m\"\u001b[39;49m\u001b[43m]\u001b[49m\n",
      "\u001b[0;31mKeyError\u001b[0m: 'Hello'"
     ]
    }
   ],
   "source": [
    "d[\"Hello\"]"
   ]
  },
  {
   "cell_type": "code",
   "execution_count": 482,
   "id": "11edfa60-9608-4c29-8892-d852ceca469f",
   "metadata": {},
   "outputs": [
    {
     "data": {
      "text/plain": [
       "[('a', 1), ('b', 2)]"
      ]
     },
     "execution_count": 482,
     "metadata": {},
     "output_type": "execute_result"
    }
   ],
   "source": [
    "d = {\"a\" : 1, \"b\" : 2}\n",
    "list(d.items())"
   ]
  },
  {
   "cell_type": "code",
   "execution_count": 484,
   "id": "879e1e3c-d91c-4ace-9262-9767bf666899",
   "metadata": {},
   "outputs": [
    {
     "data": {
      "text/plain": [
       "['a', 'b']"
      ]
     },
     "execution_count": 484,
     "metadata": {},
     "output_type": "execute_result"
    }
   ],
   "source": [
    "list(d.keys())"
   ]
  },
  {
   "cell_type": "code",
   "execution_count": 485,
   "id": "c628d307-6afc-41ae-9e11-a4bd4b64f0ec",
   "metadata": {},
   "outputs": [
    {
     "data": {
      "text/plain": [
       "[1, 2]"
      ]
     },
     "execution_count": 485,
     "metadata": {},
     "output_type": "execute_result"
    }
   ],
   "source": [
    "list(d.values())"
   ]
  },
  {
   "cell_type": "code",
   "execution_count": 488,
   "id": "09aec9a3-6028-4a22-a9d1-3e286caaddd4",
   "metadata": {},
   "outputs": [
    {
     "data": {
      "text/plain": [
       "True"
      ]
     },
     "execution_count": 488,
     "metadata": {},
     "output_type": "execute_result"
    }
   ],
   "source": [
    "\"a\" in d # defaults to keys"
   ]
  },
  {
   "cell_type": "code",
   "execution_count": 489,
   "id": "ce0c861a-53c7-4ae7-82e6-a2dc8e7e0af7",
   "metadata": {},
   "outputs": [
    {
     "data": {
      "text/plain": [
       "False"
      ]
     },
     "execution_count": 489,
     "metadata": {},
     "output_type": "execute_result"
    }
   ],
   "source": [
    "1 in d"
   ]
  },
  {
   "cell_type": "code",
   "execution_count": 490,
   "id": "f47ce27c-b9ec-49d6-9300-bbec0dc6d4cc",
   "metadata": {},
   "outputs": [
    {
     "ename": "TypeError",
     "evalue": "unhashable type: 'dict'",
     "output_type": "error",
     "traceback": [
      "\u001b[0;31m---------------------------------------------------------------------------\u001b[0m",
      "\u001b[0;31mTypeError\u001b[0m                                 Traceback (most recent call last)",
      "Cell \u001b[0;32mIn[490], line 1\u001b[0m\n\u001b[0;32m----> 1\u001b[0m \u001b[43m{\u001b[49m\u001b[38;5;124;43m\"\u001b[39;49m\u001b[38;5;124;43ma\u001b[39;49m\u001b[38;5;124;43m\"\u001b[39;49m\u001b[43m \u001b[49m\u001b[43m:\u001b[49m\u001b[43m \u001b[49m\u001b[38;5;241;43m1\u001b[39;49m\u001b[43m}\u001b[49m\u001b[43m \u001b[49m\u001b[38;5;129;43;01min\u001b[39;49;00m\u001b[43m \u001b[49m\u001b[43md\u001b[49m\n",
      "\u001b[0;31mTypeError\u001b[0m: unhashable type: 'dict'"
     ]
    }
   ],
   "source": [
    "{\"a\" : 1} in d"
   ]
  },
  {
   "cell_type": "code",
   "execution_count": 491,
   "id": "f5b9eef8-5959-49ae-bc2f-fdbf4a14dd1d",
   "metadata": {},
   "outputs": [
    {
     "data": {
      "text/plain": [
       "False"
      ]
     },
     "execution_count": 491,
     "metadata": {},
     "output_type": "execute_result"
    }
   ],
   "source": [
    "('a', 1) in d"
   ]
  },
  {
   "cell_type": "markdown",
   "id": "35d7d619-03d0-4554-acad-0e0800be0b10",
   "metadata": {},
   "source": [
    "### Add"
   ]
  },
  {
   "cell_type": "code",
   "execution_count": 473,
   "id": "0863fc83-cdc5-4673-a295-e451a5826958",
   "metadata": {},
   "outputs": [
    {
     "data": {
      "text/plain": [
       "{'a': 1}"
      ]
     },
     "execution_count": 473,
     "metadata": {},
     "output_type": "execute_result"
    }
   ],
   "source": [
    "d = {}\n",
    "d[\"a\"] = 1\n",
    "d"
   ]
  },
  {
   "cell_type": "code",
   "execution_count": 476,
   "id": "d396b481-22b9-406b-8c25-9fdcadf515ab",
   "metadata": {},
   "outputs": [
    {
     "data": {
      "text/plain": [
       "{'a': 1, 'b': 2}"
      ]
     },
     "execution_count": 476,
     "metadata": {},
     "output_type": "execute_result"
    }
   ],
   "source": [
    "d[\"b\"] = 2\n",
    "d"
   ]
  },
  {
   "cell_type": "code",
   "execution_count": 478,
   "id": "1ebcaaf5-c5af-40f1-a876-f0ed76720161",
   "metadata": {},
   "outputs": [
    {
     "data": {
      "text/plain": [
       "{'a': 3, 'b': 2}"
      ]
     },
     "execution_count": 478,
     "metadata": {},
     "output_type": "execute_result"
    }
   ],
   "source": [
    "d[\"a\"] = 3\n",
    "d"
   ]
  },
  {
   "cell_type": "code",
   "execution_count": 479,
   "id": "c677d75e-7bfd-4be6-9006-8f12a2fa338a",
   "metadata": {},
   "outputs": [
    {
     "data": {
      "text/plain": [
       "{'a': 3, 'b': 2, 'c': 3, 'd': 4}"
      ]
     },
     "execution_count": 479,
     "metadata": {},
     "output_type": "execute_result"
    }
   ],
   "source": [
    "d.update({\"c\" : 3, \"d\" : 4})\n",
    "d"
   ]
  },
  {
   "cell_type": "markdown",
   "id": "c3e6cb63-2f19-42a7-962d-f6369ac59f92",
   "metadata": {},
   "source": [
    "### Remove"
   ]
  },
  {
   "cell_type": "code",
   "execution_count": 550,
   "id": "c233126b-0943-421e-857f-717892ff0c6d",
   "metadata": {},
   "outputs": [
    {
     "name": "stdout",
     "output_type": "stream",
     "text": [
      "1\n",
      "{'b': 2}\n"
     ]
    }
   ],
   "source": [
    "d = {\"a\" : 1, \"b\" : 2}\n",
    "x = d.pop(\"a\")\n",
    "print(x)\n",
    "print(d)"
   ]
  },
  {
   "cell_type": "code",
   "execution_count": 551,
   "id": "61609ed4-14c0-4808-98b4-cad2babe3ace",
   "metadata": {},
   "outputs": [
    {
     "ename": "TypeError",
     "evalue": "pop expected at least 1 argument, got 0",
     "output_type": "error",
     "traceback": [
      "\u001b[0;31m---------------------------------------------------------------------------\u001b[0m",
      "\u001b[0;31mTypeError\u001b[0m                                 Traceback (most recent call last)",
      "Cell \u001b[0;32mIn[551], line 2\u001b[0m\n\u001b[1;32m      1\u001b[0m d \u001b[38;5;241m=\u001b[39m {\u001b[38;5;124m\"\u001b[39m\u001b[38;5;124ma\u001b[39m\u001b[38;5;124m\"\u001b[39m : \u001b[38;5;241m1\u001b[39m, \u001b[38;5;124m\"\u001b[39m\u001b[38;5;124mb\u001b[39m\u001b[38;5;124m\"\u001b[39m : \u001b[38;5;241m2\u001b[39m}\n\u001b[0;32m----> 2\u001b[0m x \u001b[38;5;241m=\u001b[39m \u001b[43md\u001b[49m\u001b[38;5;241;43m.\u001b[39;49m\u001b[43mpop\u001b[49m\u001b[43m(\u001b[49m\u001b[43m)\u001b[49m\n\u001b[1;32m      3\u001b[0m x\n",
      "\u001b[0;31mTypeError\u001b[0m: pop expected at least 1 argument, got 0"
     ]
    }
   ],
   "source": [
    "d = {\"a\" : 1, \"b\" : 2}\n",
    "x = d.pop()\n",
    "x"
   ]
  },
  {
   "cell_type": "code",
   "execution_count": 552,
   "id": "c8071b33-84a2-4adf-b54c-3aabac8eca1b",
   "metadata": {},
   "outputs": [
    {
     "data": {
      "text/plain": [
       "{'b': 2}"
      ]
     },
     "execution_count": 552,
     "metadata": {},
     "output_type": "execute_result"
    }
   ],
   "source": [
    "d = {\"a\" : 1, \"b\" : 2}\n",
    "del d[\"a\"]\n",
    "d"
   ]
  },
  {
   "cell_type": "markdown",
   "id": "a092dcb1-2dd8-497f-b751-8ae519289ff8",
   "metadata": {},
   "source": [
    "### Methods"
   ]
  },
  {
   "cell_type": "code",
   "execution_count": 447,
   "id": "06c5c751-abb5-4b85-ab15-2cd57b36ba03",
   "metadata": {},
   "outputs": [
    {
     "data": {
      "text/plain": [
       "{'Hit': 331, 'Vu': 44, 'Ja': 3}"
      ]
     },
     "execution_count": 447,
     "metadata": {},
     "output_type": "execute_result"
    }
   ],
   "source": [
    "names = [\"Hit\", \"Vu\", \"Ja\"]\n",
    "ages = [331, 44, 3, 1000]\n",
    "d = dict(zip(names, ages))\n",
    "d"
   ]
  }
 ],
 "metadata": {
  "kernelspec": {
   "display_name": "Python 3 (ipykernel)",
   "language": "python",
   "name": "python3"
  },
  "language_info": {
   "codemirror_mode": {
    "name": "ipython",
    "version": 3
   },
   "file_extension": ".py",
   "mimetype": "text/x-python",
   "name": "python",
   "nbconvert_exporter": "python",
   "pygments_lexer": "ipython3",
   "version": "3.12.3"
  }
 },
 "nbformat": 4,
 "nbformat_minor": 5
}
